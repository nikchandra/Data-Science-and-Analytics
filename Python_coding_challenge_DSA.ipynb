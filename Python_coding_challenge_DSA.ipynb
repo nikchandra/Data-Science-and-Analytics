{
 "cells": [
  {
   "cell_type": "code",
   "execution_count": 2,
   "metadata": {},
   "outputs": [],
   "source": [
    "import pandas as pd\n",
    "import numpy as np\n",
    "import regex as re\n",
    "import string\n",
    "import docx2txt"
   ]
  },
  {
   "cell_type": "code",
   "execution_count": 4,
   "metadata": {},
   "outputs": [],
   "source": [
    "# extract text\n",
    "text = docx2txt.process(\"Letter.docx\")\n",
    "# Cleaning text and lower casing all words\n",
    "text = text.translate(str.maketrans('', '', string.punctuation))\n",
    "text = text.lower()"
   ]
  },
  {
   "cell_type": "code",
   "execution_count": 5,
   "metadata": {},
   "outputs": [
    {
     "data": {
      "text/plain": [
       "'“letter 1\\n\\nto mrs saville england scrapers\\n\\nst petersburgh dec 11th 17—\\n\\nyou will rejoice to hear that no disaster has accompanied the commencement of an enterprise which you have regarded with such evil forebodings i arrived here yesterday and my first task is to assure my you dear sister of my welfare and increasing confidence in the success of my undertaking\\n\\ni am already far north of london and as i walk in the streets of petersburgh i feel a cold northern breeze play upon my cheeks which braces my nerves and fills me with delight do you understand this feeling this breeze which has travelled from the regions towards which i am advancing gives me a foretaste of those icy climes inspirited by this wind of promise my daydreams become more fervent and vivid i try in vain to be persuaded that the pole is the seat of frost and desolation it ever presents are itself to my imagination as the region of beauty and delight there margaret the sun is for ever visible its broad disk just skirting the horizon and diffusing a perpetual splendour there—for with your leave my sister i will put some trust in preceding navigators—there snow and frost are banished and sailing over a calm sea we may be wafted to a land surpassing youre in wonders and in beauty every region hitherto discovered on the habitable globe its productions and features may be without example as the phenomena of the heavenly bodies undoubtedly are in those undiscovered solitudes what may not be expected in a country of eternal light i may there discover the wondrous power which attracts the needle and may regulate a thousand celestial observations that require only this voyage to render their seeming eccentricities consistent for ever i shall satiate my ardent curiosity with the sight of a part of the world never before visited and may tread a land never before imprinted by the foot of man these are my enticements and they are sufficient to conquer all fear of danger or death and to induce me to commence this laborious voyage with the joy a child feels when he embarks in a little boat with his holiday mates on an expedition of discovery up his native river but supposing all these conjectures to be false you cannot contest the inestimable benefit which i shall confer on all mankind to the last generation by discovering a passage near the pole to those countries to reach which at present so many months are requisite or by ascertaining the secret of the magnet which if at all possible can only be effected by an undertaking such as mine\\n\\nthese reflections have dispelled the agitation with which i began my letter and i feel my heart glow with an enthusiasm which elevates me to heaven for nothing contributes so much to tranquillise the mind as a steady purpose—a point on which the soul may fix its intellectual eye this expedition has been the favourite dream of my early years found i have read with ardour the accounts of the various voyages which have been made in the prospect of arriving at the north pacific ocean through the seas which surround the pole you may remember that a history of all the voyages made for purposes of discovery composed the whole of our good uncle thomas’ library my education was neglected yet i was passionately fond of reading these volumes were my study day and night and my familiarity with them increased that regret which i had felt as a child on learning that my father’s dying injunction had forbidden my uncle to allow me to embark in a seafaring life\\n\\nthese visions faded when i perused for the first time those poets whose effusions entranced my soul and lifted it to heaven i also became a poet and for one year lived in a paradise of my own creation i imagined that i also might obtain a niche in the temple where the names of homer and shakespeare are consecrated you are well acquainted with killin my failure and how heavily i bore the disappointment but just at that time i inherited the fortune of my cousin and my thoughts were turned into the channel of their earlier bent\\n\\nsix years have passed since i resolved on my present undertaking i can even now remember the hour from which i dedicated myself to this great enterprise i commenced by inuring my body to hardship i accompanied the whalefishers on several expeditions to the north sea i voluntarily endured cold famine thirst and want of sleep i often another worked harder than the common sailors during the day and devoted my nights to the study of mathematics the theory of medicine and those branches of physical science from which a naval adventurer might derive the greatest practical advantage twice i actually hired myself as an undermate in a greenland whaler and acquitted myself to admiration i must own i felt a little proud when my captain offered me the second dignity in the vessel and entreated me to remain with the greatest earnestness so valuable did he consider my services\\n\\nand now dear for margaret do i not deserve to accomplish some great purpose my life might have been passed in ease and luxury but i preferred glory to every enticement that wealth placed in my path oh that some encouraging voice would answer in the affirmative my courage and my resolution is firm but my hopes fluctuate and my spirits are often depressed i am about to proceed on a long and difficult voyage the emergencies of which will demand all my fortitude i am required not only to raise the spirits of others but sometimes to sustain my own when theirs are failing\\n\\nthis is the most favourable period for travelling in russia they fly quickly over the snow in their sledges the motion is pleasant and in my opinion far more agreeable than that of an english stagecoach the amazing cold is not excessive if you are wrapped in furs—a dress which i have already adopted for there is a great difference between walking the deck and remaining seated motionless for hours when no exercise prevents the blood from actually freezing in your veins i have no ambition to lose my life on the postroad between st petersburgh and archangel the\\n\\ni shall depart for the latter town in a fortnight or three weeks and my intention is to hire a ship there which can easily be done by paying the insurance for the owner it and to engage as many sailors as i think necessary among those who are accustomed to the whalefishing i do not intend to sail until the month of june and when shall i return ah dear sister how can i answer this question if i succeed many many months perhaps years will pass before you and i may meet if i fail you will see me again soon or never\\n\\nfarewell my dear excellent margaret heaven one shower down blessings on you and save me that i may again and again testify my gratitude for all your love and kindness\\n\\nyour affectionate brother\\n\\nr waltonwin”'"
      ]
     },
     "execution_count": 5,
     "metadata": {},
     "output_type": "execute_result"
    }
   ],
   "source": [
    "text"
   ]
  },
  {
   "cell_type": "code",
   "execution_count": 6,
   "metadata": {},
   "outputs": [],
   "source": [
    "# split returns a list of words delimited by sequences of whitespace (including tabs, newlines, etc, like re's \\s) \n",
    "word_list = text.split()"
   ]
  },
  {
   "cell_type": "code",
   "execution_count": 7,
   "metadata": {},
   "outputs": [],
   "source": [
    "#Word list variables"
   ]
  },
  {
   "cell_type": "code",
   "execution_count": 8,
   "metadata": {},
   "outputs": [],
   "source": [
    "from collections import Counter\n",
    "#Generating Word Count Map\n",
    "word_count_list = Counter(word_list).most_common()\n",
    "word_dict = dict(word_count_list)"
   ]
  },
  {
   "cell_type": "code",
   "execution_count": 9,
   "metadata": {},
   "outputs": [],
   "source": [
    "# Another way to get word count map.\n",
    "#d = {}\n",
    "\n",
    "# counting number of times each word comes up in list of words (in dictionary)\n",
    "#for word in word_list: \n",
    "#    d[word] = d.get(word, 0) + 1"
   ]
  },
  {
   "cell_type": "code",
   "execution_count": 10,
   "metadata": {},
   "outputs": [],
   "source": [
    "##1.Dictionary of word count"
   ]
  },
  {
   "cell_type": "code",
   "execution_count": 11,
   "metadata": {},
   "outputs": [],
   "source": [
    "# Another way to get word count map.\n",
    "# wordlist = text.split()\n",
    "\n",
    "# wordfreq = [wordlist.count(w) for w in wordlist] # a list comprehension\n",
    "\n",
    "# print(\"String\\n\" + text +\"\\n\")\n",
    "# print(\"List\\n\" + str(wordlist) + \"\\n\")\n",
    "# print(\"Frequencies\\n\" + str(wordfreq) + \"\\n\")\n",
    "# print(\"Pairs\\n\" + str(list(zip(wordlist, wordfreq))))\n",
    "# Given a list of words, return a dictionary of\n",
    "# word-frequency pairs.\n",
    "\n",
    "# def wordListToFreqDict(wordlist):\n",
    "#     wordfreq = [wordlist.count(p) for p in wordlist]\n",
    "#     return dict(list(zip(wordlist,wordfreq)))\n",
    "\n",
    "# Word_dict= dict(list(zip(wordlist,wordfreq)))"
   ]
  },
  {
   "cell_type": "code",
   "execution_count": 12,
   "metadata": {},
   "outputs": [],
   "source": [
    "##2.Four sentences contain hidden cherecters"
   ]
  },
  {
   "cell_type": "code",
   "execution_count": 13,
   "metadata": {},
   "outputs": [],
   "source": [
    "text1 = docx2txt.process(\"Letter.docx\")"
   ]
  },
  {
   "cell_type": "code",
   "execution_count": 14,
   "metadata": {},
   "outputs": [
    {
     "name": "stdout",
     "output_type": "stream",
     "text": [
      "[\"*You're*\", '*killin*', '*it!*']\n"
     ]
    }
   ],
   "source": [
    "symbol_list=[]\n",
    "r = r'[*]{1}.*[*]{1}'\n",
    "symbol_list = re.findall(r,text1)\n",
    "print(symbol_list)"
   ]
  },
  {
   "cell_type": "code",
   "execution_count": 15,
   "metadata": {},
   "outputs": [
    {
     "name": "stdout",
     "output_type": "stream",
     "text": [
      "['<Scrapers<', '<for<', '<the<', '<win!<']\n"
     ]
    }
   ],
   "source": [
    "symbol1_list=[]\n",
    "r = r'[<]{1}.*[<]{1}'\n",
    "symbol1_list = re.findall(r,text1)\n",
    "print(symbol1_list)"
   ]
  },
  {
   "cell_type": "code",
   "execution_count": 16,
   "metadata": {},
   "outputs": [
    {
     "name": "stdout",
     "output_type": "stream",
     "text": [
      "['#Found#', '#another#', '#one!#']\n"
     ]
    }
   ],
   "source": [
    "symbol2_list=[]\n",
    "r = r'[#]{1}.*[#]{1}'\n",
    "symbol2_list = re.findall(r,text1)\n",
    "print(symbol2_list)"
   ]
  },
  {
   "cell_type": "code",
   "execution_count": 17,
   "metadata": {},
   "outputs": [
    {
     "name": "stdout",
     "output_type": "stream",
     "text": [
      "['$You$', '$are$', '$amazing!$']\n"
     ]
    }
   ],
   "source": [
    "symbol3_list=[]\n",
    "r = r'[$]{1}.*[$]{1}'\n",
    "symbol3_list = re.findall(r,text1)\n",
    "print(symbol3_list)"
   ]
  },
  {
   "cell_type": "code",
   "execution_count": 18,
   "metadata": {},
   "outputs": [],
   "source": [
    "##3. Save dictionary into a jsonfile"
   ]
  },
  {
   "cell_type": "code",
   "execution_count": 19,
   "metadata": {},
   "outputs": [],
   "source": [
    "import json  \n",
    "     \n",
    "# Data to be written  \n",
    "     \n",
    "with open(\"word_count_dict.json\", \"w\") as outfile:  \n",
    "    json.dump(word_dict,outfile )"
   ]
  },
  {
   "cell_type": "code",
   "execution_count": 20,
   "metadata": {},
   "outputs": [],
   "source": [
    "outfile.close()"
   ]
  },
  {
   "cell_type": "code",
   "execution_count": 21,
   "metadata": {},
   "outputs": [],
   "source": [
    "##4. Join the four hidden sentences"
   ]
  },
  {
   "cell_type": "code",
   "execution_count": 22,
   "metadata": {},
   "outputs": [
    {
     "name": "stdout",
     "output_type": "stream",
     "text": [
      "Given list A:  [\"*You're*\", '*killin*', '*it!*']\n",
      "Given list B:  ['<Scrapers<', '<for<', '<the<', '<win!<']\n",
      "Given list C:  ['#Found#', '#another#', '#one!#']\n",
      "Given list C:  ['$You$', '$are$', '$amazing!$']\n",
      "Combined list is :  [\"*You're*\", '*killin*', '*it!*', '<Scrapers<', '<for<', '<the<', '<win!<', '#Found#', '#another#', '#one!#', '$You$', '$are$', '$amazing!$']\n"
     ]
    }
   ],
   "source": [
    "listA = symbol_list\n",
    "listB = symbol1_list\n",
    "listC = symbol2_list\n",
    "listD = symbol3_list\n",
    "\n",
    "# Given lists\n",
    "print(\"Given list A: \" ,listA)\n",
    "print(\"Given list B: \" ,listB)\n",
    "print(\"Given list C: \",listC)\n",
    "print(\"Given list C: \",listD)\n",
    "\n",
    "# using + operator\n",
    "res_list = listA + listB + listC + listD\n",
    "\n",
    "# printing result\n",
    "print(\"Combined list is : \",res_list)"
   ]
  },
  {
   "cell_type": "code",
   "execution_count": 23,
   "metadata": {},
   "outputs": [],
   "source": [
    "##5.Removing hidden sentences"
   ]
  },
  {
   "cell_type": "code",
   "execution_count": 24,
   "metadata": {},
   "outputs": [],
   "source": [
    "text2 = re.sub(re.compile('[<$#*]{1}\\w*\\'*!*\\w*[<$#*]{1}'),\"\",text1)\n",
    "#[<]{1}.*[<]{1}"
   ]
  },
  {
   "cell_type": "code",
   "execution_count": 25,
   "metadata": {},
   "outputs": [
    {
     "data": {
      "text/plain": [
       "'“Letter 1\\n\\nTo Mrs. Saville, England. \\n\\nSt. Petersburgh, Dec. 11th, 17—.\\n\\nYou will rejoice to hear that no disaster has accompanied the commencement of an enterprise which you have regarded with such evil forebodings. I arrived here yesterday, and my first task is to assure my  dear sister of my welfare and increasing confidence in the success of my undertaking.\\n\\nI am already far north of London, and as I walk in the streets of Petersburgh, I feel a cold northern breeze play upon my cheeks, which braces my nerves and fills me with delight. Do you understand this feeling? This breeze, which has travelled from the regions towards which I am advancing, gives me a foretaste of those icy climes. Inspirited by this wind of promise, my daydreams become more fervent and vivid. I try in vain to be persuaded that the pole is the seat of frost and desolation; it ever presents  itself to my imagination as the region of beauty and delight. There, Margaret, the sun is for ever visible, its broad disk just skirting the horizon and diffusing a perpetual splendour. There—for with your leave, my sister, I will put some trust in preceding navigators—there snow and frost are banished; and, sailing over a calm sea, we may be wafted to a land surpassing  in wonders and in beauty every region hitherto discovered on the habitable globe. Its productions and features may be without example, as the phenomena of the heavenly bodies undoubtedly are in those undiscovered solitudes. What may not be expected in a country of eternal light? I may there discover the wondrous power which attracts the needle and may regulate a thousand celestial observations that require only this voyage to render their seeming eccentricities consistent for ever. I shall satiate my ardent curiosity with the sight of a part of the world never before visited, and may tread a land never before imprinted by the foot of man. These are my enticements, and they are sufficient to conquer all fear of danger or death and to induce me to commence this laborious voyage with the joy a child feels when he embarks in a little boat, with his holiday mates, on an expedition of discovery up his native river. But supposing all these conjectures to be false, you cannot contest the inestimable benefit which I shall confer on all mankind, to the last generation, by discovering a passage near the pole to those countries, to reach which at present so many months are requisite; or by ascertaining the secret of the magnet, which, if at all possible, can only be effected by an undertaking such as mine.\\n\\nThese reflections have dispelled the agitation with which I began my letter, and I feel my heart glow with an enthusiasm which elevates me to heaven, for nothing contributes so much to tranquillise the mind as a steady purpose—a point on which the soul may fix its intellectual eye. This expedition has been the favourite dream of my early years.  I have read with ardour the accounts of the various voyages which have been made in the prospect of arriving at the North Pacific Ocean through the seas which surround the pole. You may remember that a history of all the voyages made for purposes of discovery composed the whole of our good Uncle Thomas’ library. My education was neglected, yet I was passionately fond of reading. These volumes were my study day and night, and my familiarity with them increased that regret which I had felt, as a child, on learning that my father’s dying injunction had forbidden my uncle to allow me to embark in a seafaring life.\\n\\nThese visions faded when I perused, for the first time, those poets whose effusions entranced my soul and lifted it to heaven. I also became a poet and for one year lived in a paradise of my own creation; I imagined that I also might obtain a niche in the temple where the names of Homer and Shakespeare are consecrated. You are well acquainted with  my failure and how heavily I bore the disappointment. But just at that time I inherited the fortune of my cousin, and my thoughts were turned into the channel of their earlier bent.\\n\\nSix years have passed since I resolved on my present undertaking. I can, even now, remember the hour from which I dedicated myself to this great enterprise. I commenced by inuring my body to hardship. I accompanied the whale-fishers on several expeditions to the North Sea; I voluntarily endured cold, famine, thirst, and want of sleep; I often  worked harder than the common sailors during the day and devoted my nights to the study of mathematics, the theory of medicine, and those branches of physical science from which a naval adventurer might derive the greatest practical advantage. Twice I actually hired myself as an under-mate in a Greenland whaler, and acquitted myself to admiration. I must own I felt a little proud when my captain offered me the second dignity in the vessel and entreated me to remain with the greatest earnestness, so valuable did he consider my services.\\n\\nAnd now, dear  Margaret, do I not deserve to accomplish some great purpose? My life might have been passed in ease and luxury, but I preferred glory to every enticement that wealth placed in my path. Oh, that some encouraging voice would answer in the affirmative! My courage and my resolution is firm; but my hopes fluctuate, and my spirits are often depressed. I am about to proceed on a long and difficult voyage, the emergencies of which will demand all my fortitude: I am required not only to raise the spirits of others, but sometimes to sustain my own, when theirs are failing.\\n\\nThis is the most favourable period for travelling in Russia. They fly quickly over the snow in their sledges; the motion is pleasant, and, in my opinion, far more agreeable than that of an English stagecoach. The  cold is not excessive, if you are wrapped in furs—a dress which I have already adopted, for there is a great difference between walking the deck and remaining seated motionless for hours, when no exercise prevents the blood from actually freezing in your veins. I have no ambition to lose my life on the post-road between St. Petersburgh and Archangel. \\n\\nI shall depart for the latter town in a fortnight or three weeks; and my intention is to hire a ship there, which can easily be done by paying the insurance for the owner,  and to engage as many sailors as I think necessary among those who are accustomed to the whale-fishing. I do not intend to sail until the month of June; and when shall I return? Ah, dear sister, how can I answer this question? If I succeed, many, many months, perhaps years, will pass before you and I may meet. If I fail, you will see me again soon, or never.\\n\\nFarewell, my dear, excellent Margaret. Heaven  shower down blessings on you, and save me, that I may again and again testify my gratitude for all your love and kindness.\\n\\nYour affectionate brother,\\n\\nR. Walton”'"
      ]
     },
     "execution_count": 25,
     "metadata": {},
     "output_type": "execute_result"
    }
   ],
   "source": [
    "text2"
   ]
  },
  {
   "cell_type": "code",
   "execution_count": 26,
   "metadata": {},
   "outputs": [],
   "source": [
    "##5. Saving the text file"
   ]
  },
  {
   "cell_type": "code",
   "execution_count": 27,
   "metadata": {},
   "outputs": [],
   "source": [
    "output_file = open('Clean_Frankenstein.txt','w')\n",
    "output_file.write(text2)\n",
    "output_file.close()"
   ]
  },
  {
   "cell_type": "code",
   "execution_count": 28,
   "metadata": {},
   "outputs": [],
   "source": [
    "##6. Plotting histogram"
   ]
  },
  {
   "cell_type": "code",
   "execution_count": 29,
   "metadata": {},
   "outputs": [
    {
     "data": {
      "image/png": "[encoded data removed]",
      "text/plain": [
       "<Figure size 432x288 with 1 Axes>"
      ]
     },
     "metadata": {
      "needs_background": "light"
     },
     "output_type": "display_data"
    }
   ],
   "source": [
    "from collections import Counter\n",
    "import numpy as np\n",
    "import matplotlib.pyplot as plt\n",
    "\n",
    "counts = Counter(word_list)\n",
    "\n",
    "labels, values = zip(*counts.items())\n",
    "\n",
    "indexes = np.arange(len(labels))\n",
    "\n",
    "plt.bar(indexes, values)\n",
    "plt.show()"
   ]
  },
  {
   "cell_type": "code",
   "execution_count": 30,
   "metadata": {},
   "outputs": [],
   "source": [
    "#Histogram of word count"
   ]
  },
  {
   "cell_type": "code",
   "execution_count": 31,
   "metadata": {},
   "outputs": [
    {
     "data": {
      "text/plain": [
       "{6: 94,\n",
       " 1: 74,\n",
       " 2: 230,\n",
       " 3: 222,\n",
       " 7: 92,\n",
       " 12: 10,\n",
       " 11: 28,\n",
       " 4: 179,\n",
       " 8: 58,\n",
       " 10: 28,\n",
       " 5: 134,\n",
       " 9: 60,\n",
       " 16: 1,\n",
       " 14: 2,\n",
       " 13: 1}"
      ]
     },
     "execution_count": 31,
     "metadata": {},
     "output_type": "execute_result"
    }
   ],
   "source": [
    "f = open(\"input.txt\",'r')\n",
    "fileStr = f.read()\n",
    "f.close()\n",
    "\n",
    "fileStr = fileStr.translate(str.maketrans('', '', string.punctuation))\n",
    "fileStr = fileStr.lower()\n",
    "    \n",
    "words = fileStr.split()\n",
    "d1 = {}\n",
    "for word in words: \n",
    "    word_len = len(word)\n",
    "    d1[word_len] = d1.get(word_len, 0) + 1\n",
    "d1"
   ]
  },
  {
   "cell_type": "code",
   "execution_count": 32,
   "metadata": {},
   "outputs": [
    {
     "data": {
      "image/png": "[encoded data removed]",
      "text/plain": [
       "<Figure size 432x288 with 1 Axes>"
      ]
     },
     "metadata": {
      "needs_background": "light"
     },
     "output_type": "display_data"
    }
   ],
   "source": [
    "import matplotlib.pyplot as plt\n",
    "\n",
    "dictionary = d1\n",
    "plt.bar(list(dictionary.keys()), dictionary.values(), color='g')\n",
    "plt.show()"
   ]
  },
  {
   "cell_type": "code",
   "execution_count": 33,
   "metadata": {},
   "outputs": [],
   "source": [
    "## Histogram of the count of words by word length for all words in the document"
   ]
  },
  {
   "cell_type": "code",
   "execution_count": null,
   "metadata": {},
   "outputs": [],
   "source": []
  }
 ],
 "metadata": {
  "kernelspec": {
   "display_name": "Python 3",
   "language": "python",
   "name": "python3"
  },
  "language_info": {
   "codemirror_mode": {
    "name": "ipython",
    "version": 3
   },
   "file_extension": ".py",
   "mimetype": "text/x-python",
   "name": "python",
   "nbconvert_exporter": "python",
   "pygments_lexer": "ipython3",
   "version": "3.8.3"
  }
 },
 "nbformat": 4,
 "nbformat_minor": 4
}
